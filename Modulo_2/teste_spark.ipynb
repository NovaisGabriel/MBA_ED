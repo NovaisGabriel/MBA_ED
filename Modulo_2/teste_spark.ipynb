{
 "cells": [
  {
   "cell_type": "markdown",
   "id": "2bb004e9",
   "metadata": {},
   "source": [
    "<h3> Importando Pacotes </h3>"
   ]
  },
  {
   "cell_type": "code",
   "execution_count": 16,
   "id": "42dbcc98",
   "metadata": {},
   "outputs": [],
   "source": [
    "import findspark\n",
    "from pyspark.sql import SparkSession\n",
    "from pyspark.sql.functions import col\n",
    "from pyspark.sql.types import *\n",
    "\n",
    "findspark.init()"
   ]
  },
  {
   "cell_type": "markdown",
   "id": "00170854",
   "metadata": {},
   "source": [
    "<h3> Inciando sessão do Spark </h3>"
   ]
  },
  {
   "cell_type": "code",
   "execution_count": 17,
   "id": "5c133dd2",
   "metadata": {},
   "outputs": [],
   "source": [
    "spark = SparkSession.builder.getOrCreate()"
   ]
  },
  {
   "cell_type": "markdown",
   "id": "198697f9",
   "metadata": {},
   "source": [
    "<h3> Criando um dataframe </h3>"
   ]
  },
  {
   "cell_type": "code",
   "execution_count": 34,
   "id": "32e20fac",
   "metadata": {},
   "outputs": [],
   "source": [
    "# df = spark.range(10)\n",
    "# schema = StructType([\n",
    "#    StructField(\"name\", StringType(), True),\n",
    "#    StructField(\"age\", IntegerType(), True)])\n",
    "\n",
    "schema = 'name STRING, age INT'\n",
    "df = spark.createDataFrame([('Pedro', 47),\n",
    "                            ('Ana', 35),\n",
    "                            ('Paulo',21),\n",
    "                            ('Francisco', 23),\n",
    "                            ('Paula', 39),\n",
    "                            ('Teresa',17),\n",
    "                            ('EtBilu',299)], schema)"
   ]
  },
  {
   "cell_type": "code",
   "execution_count": 35,
   "id": "861ddcfc",
   "metadata": {},
   "outputs": [
    {
     "name": "stdout",
     "output_type": "stream",
     "text": [
      "+---------+---+\n",
      "|     name|age|\n",
      "+---------+---+\n",
      "|    Pedro| 47|\n",
      "|      Ana| 35|\n",
      "|    Paulo| 21|\n",
      "|Francisco| 23|\n",
      "|    Paula| 39|\n",
      "|   Teresa| 17|\n",
      "|   EtBilu|299|\n",
      "+---------+---+\n",
      "\n"
     ]
    }
   ],
   "source": [
    "df.show()"
   ]
  },
  {
   "cell_type": "code",
   "execution_count": 32,
   "id": "6c6d592e",
   "metadata": {},
   "outputs": [
    {
     "data": {
      "text/plain": [
       "[('name', 'string'), ('age', 'int')]"
      ]
     },
     "execution_count": 32,
     "metadata": {},
     "output_type": "execute_result"
    }
   ],
   "source": [
    "df.dtypes"
   ]
  },
  {
   "cell_type": "code",
   "execution_count": 36,
   "id": "c8dc9399",
   "metadata": {},
   "outputs": [
    {
     "name": "stdout",
     "output_type": "stream",
     "text": [
      "root\n",
      " |-- name: string (nullable = true)\n",
      " |-- age: integer (nullable = true)\n",
      "\n"
     ]
    }
   ],
   "source": [
    "df.printSchema()"
   ]
  },
  {
   "cell_type": "markdown",
   "id": "9276783f",
   "metadata": {},
   "source": [
    "<h3>Consultas</h3>"
   ]
  },
  {
   "cell_type": "code",
   "execution_count": 33,
   "id": "1576cc94",
   "metadata": {},
   "outputs": [
    {
     "name": "stdout",
     "output_type": "stream",
     "text": [
      "+---------+\n",
      "|     name|\n",
      "+---------+\n",
      "|    Pedro|\n",
      "|      Ana|\n",
      "|    Paulo|\n",
      "|Francisco|\n",
      "|    Paula|\n",
      "|   Teresa|\n",
      "|   EtBilu|\n",
      "+---------+\n",
      "\n"
     ]
    }
   ],
   "source": [
    "(\n",
    "df\n",
    "    .select(\"name\")\n",
    "    .show()\n",
    ")"
   ]
  },
  {
   "cell_type": "code",
   "execution_count": null,
   "id": "d23d7eab",
   "metadata": {},
   "outputs": [],
   "source": []
  },
  {
   "cell_type": "markdown",
   "id": "0facde7b",
   "metadata": {},
   "source": [
    "<h3>Finalizando a Sessão</h3>"
   ]
  },
  {
   "cell_type": "code",
   "execution_count": 37,
   "id": "5e9e4c07",
   "metadata": {},
   "outputs": [],
   "source": [
    "spark.stop()"
   ]
  },
  {
   "cell_type": "code",
   "execution_count": null,
   "id": "9463388d",
   "metadata": {},
   "outputs": [],
   "source": []
  }
 ],
 "metadata": {
  "kernelspec": {
   "display_name": "Python 3 (ipykernel)",
   "language": "python",
   "name": "python3"
  },
  "language_info": {
   "codemirror_mode": {
    "name": "ipython",
    "version": 3
   },
   "file_extension": ".py",
   "mimetype": "text/x-python",
   "name": "python",
   "nbconvert_exporter": "python",
   "pygments_lexer": "ipython3",
   "version": "3.9.12"
  }
 },
 "nbformat": 4,
 "nbformat_minor": 5
}
