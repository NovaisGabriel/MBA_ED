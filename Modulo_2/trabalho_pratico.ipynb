{
 "cells": [
  {
   "cell_type": "code",
   "execution_count": 1,
   "id": "012f8ec4",
   "metadata": {},
   "outputs": [],
   "source": [
    "import findspark\n",
    "\n",
    "findspark.init()"
   ]
  },
  {
   "cell_type": "code",
   "execution_count": 2,
   "id": "5a7430d7",
   "metadata": {},
   "outputs": [],
   "source": [
    "from pyspark.sql import SparkSession\n",
    "from pyspark.sql.functions import col\n",
    "from pyspark.sql.types import *"
   ]
  },
  {
   "cell_type": "code",
   "execution_count": 3,
   "id": "1149a0b4",
   "metadata": {},
   "outputs": [],
   "source": [
    "spark = SparkSession.builder.getOrCreate()"
   ]
  },
  {
   "cell_type": "code",
   "execution_count": 4,
   "id": "627f6aac",
   "metadata": {},
   "outputs": [],
   "source": [
    "(\n",
    "spark\n",
    "    .read\n",
    "    .csv('title_ratings.tsv', header=True, sep='\\t')\n",
    "    .write\n",
    "    .format('parquet')\n",
    "    .mode('overwrite')\n",
    "    .save('dfratings')\n",
    ")"
   ]
  },
  {
   "cell_type": "code",
   "execution_count": 5,
   "id": "0d504115",
   "metadata": {},
   "outputs": [],
   "source": [
    "(\n",
    "spark\n",
    "    .read\n",
    "    .csv('title_basics.tsv', header=True, sep='\\t')\n",
    "    .write\n",
    "    .format('parquet')\n",
    "    .mode('overwrite')\n",
    "    .save('dfbasics')\n",
    ")"
   ]
  },
  {
   "cell_type": "code",
   "execution_count": 6,
   "id": "1e202742",
   "metadata": {},
   "outputs": [],
   "source": [
    "df_basics = spark.read.format('parquet').load('dfbasics')"
   ]
  },
  {
   "cell_type": "code",
   "execution_count": 10,
   "id": "41642bdb",
   "metadata": {},
   "outputs": [
    {
     "name": "stdout",
     "output_type": "stream",
     "text": [
      "root\n",
      " |-- tconst: string (nullable = true)\n",
      " |-- titleType: string (nullable = true)\n",
      " |-- primaryTitle: string (nullable = true)\n",
      " |-- originalTitle: string (nullable = true)\n",
      " |-- isAdult: string (nullable = true)\n",
      " |-- startYear: string (nullable = true)\n",
      " |-- endYear: string (nullable = true)\n",
      " |-- runtimeMinutes: string (nullable = true)\n",
      " |-- genres: string (nullable = true)\n",
      "\n"
     ]
    }
   ],
   "source": [
    "df_basics.printSchema()"
   ]
  },
  {
   "cell_type": "code",
   "execution_count": 7,
   "id": "fe84bc40",
   "metadata": {},
   "outputs": [
    {
     "name": "stdout",
     "output_type": "stream",
     "text": [
      "+---------+---------+--------------------+--------------------+-------+---------+-------+--------------+--------------------+\n",
      "|   tconst|titleType|        primaryTitle|       originalTitle|isAdult|startYear|endYear|runtimeMinutes|              genres|\n",
      "+---------+---------+--------------------+--------------------+-------+---------+-------+--------------+--------------------+\n",
      "|tt0000001|    short|          Carmencita|          Carmencita|      0|     1894|     \\N|             1|   Documentary,Short|\n",
      "|tt0000002|    short|Le clown et ses c...|Le clown et ses c...|      0|     1892|     \\N|             5|     Animation,Short|\n",
      "|tt0000003|    short|      Pauvre Pierrot|      Pauvre Pierrot|      0|     1892|     \\N|             4|Animation,Comedy,...|\n",
      "|tt0000004|    short|         Un bon bock|         Un bon bock|      0|     1892|     \\N|            12|     Animation,Short|\n",
      "|tt0000005|    short|    Blacksmith Scene|    Blacksmith Scene|      0|     1893|     \\N|             1|        Comedy,Short|\n",
      "+---------+---------+--------------------+--------------------+-------+---------+-------+--------------+--------------------+\n",
      "only showing top 5 rows\n",
      "\n"
     ]
    }
   ],
   "source": [
    "df_basics.show(5)"
   ]
  },
  {
   "cell_type": "code",
   "execution_count": 8,
   "id": "7cb6e57c",
   "metadata": {},
   "outputs": [],
   "source": [
    "df_ratings = spark.read.format('parquet').load('dfratings')"
   ]
  },
  {
   "cell_type": "code",
   "execution_count": 11,
   "id": "eafd8350",
   "metadata": {},
   "outputs": [
    {
     "name": "stdout",
     "output_type": "stream",
     "text": [
      "root\n",
      " |-- tconst: string (nullable = true)\n",
      " |-- averageRating: string (nullable = true)\n",
      " |-- numVotes: string (nullable = true)\n",
      "\n"
     ]
    }
   ],
   "source": [
    "df_ratings.printSchema()"
   ]
  },
  {
   "cell_type": "code",
   "execution_count": 9,
   "id": "1cbd01e3",
   "metadata": {},
   "outputs": [
    {
     "name": "stdout",
     "output_type": "stream",
     "text": [
      "+---------+-------------+--------+\n",
      "|   tconst|averageRating|numVotes|\n",
      "+---------+-------------+--------+\n",
      "|tt0000001|          5.7|    1809|\n",
      "|tt0000002|          6.0|     233|\n",
      "|tt0000003|          6.5|    1560|\n",
      "|tt0000004|          6.1|     152|\n",
      "|tt0000005|          6.2|    2383|\n",
      "+---------+-------------+--------+\n",
      "only showing top 5 rows\n",
      "\n"
     ]
    }
   ],
   "source": [
    "df_ratings.show(5)"
   ]
  },
  {
   "cell_type": "markdown",
   "id": "7e90db48",
   "metadata": {},
   "source": [
    "<h3>Respondendo as questões do trabalho prático</h3>"
   ]
  },
  {
   "cell_type": "code",
   "execution_count": 21,
   "id": "bf057df0",
   "metadata": {},
   "outputs": [
    {
     "data": {
      "text/plain": [
       "DataFrame[tconst: string, titleType: string, primaryTitle: string, originalTitle: string, isAdult: string, startYear: int, endYear: string, runtimeMinutes: string, genres: string]"
      ]
     },
     "execution_count": 21,
     "metadata": {},
     "output_type": "execute_result"
    }
   ],
   "source": [
    "df_basics.withColumn('startYear', col('startYear').cast('int'))"
   ]
  },
  {
   "cell_type": "code",
   "execution_count": 22,
   "id": "387976f1",
   "metadata": {},
   "outputs": [],
   "source": [
    "df_basics.createOrReplaceTempView('df_basics')"
   ]
  },
  {
   "cell_type": "code",
   "execution_count": 28,
   "id": "87bcda40",
   "metadata": {},
   "outputs": [
    {
     "name": "stdout",
     "output_type": "stream",
     "text": [
      "+------------+\n",
      "|   titleType|\n",
      "+------------+\n",
      "|    tvSeries|\n",
      "|tvMiniSeries|\n",
      "|     tvMovie|\n",
      "|   tvEpisode|\n",
      "|       movie|\n",
      "|   tvSpecial|\n",
      "|       video|\n",
      "|   videoGame|\n",
      "|     tvShort|\n",
      "|       short|\n",
      "|     tvPilot|\n",
      "| radioSeries|\n",
      "|radioEpisode|\n",
      "+------------+\n",
      "\n"
     ]
    }
   ],
   "source": [
    "spark.sql(\"SELECT DISTINCT titleType FROM df_basics\").show()"
   ]
  },
  {
   "cell_type": "code",
   "execution_count": 35,
   "id": "292d2565",
   "metadata": {},
   "outputs": [
    {
     "name": "stdout",
     "output_type": "stream",
     "text": [
      "+----------------------------+\n",
      "|count(DISTINCT primaryTitle)|\n",
      "+----------------------------+\n",
      "|                       19668|\n",
      "+----------------------------+\n",
      "\n"
     ]
    }
   ],
   "source": [
    "spark.sql(\"SELECT COUNT(DISTINCT primaryTitle) FROM df_basics WHERE startYear = 2015 AND titleType in ('tvMovie', 'movie')\").show(5)"
   ]
  },
  {
   "cell_type": "code",
   "execution_count": 45,
   "id": "8673d380",
   "metadata": {},
   "outputs": [
    {
     "name": "stdout",
     "output_type": "stream",
     "text": [
      "+-----------+-------+\n",
      "|      genre|      g|\n",
      "+-----------+-------+\n",
      "|      Drama|1654014|\n",
      "|     Comedy|1415652|\n",
      "|Documentary| 660862|\n",
      "|         \\N| 643012|\n",
      "|  Talk-Show| 467793|\n",
      "|       News| 432325|\n",
      "|     Action| 334580|\n",
      "| Reality-TV| 269848|\n",
      "|  Animation| 260424|\n",
      "|      Crime| 254639|\n",
      "|      Adult| 242249|\n",
      "|     Family| 233217|\n",
      "|      Music| 224636|\n",
      "|  Adventure| 200780|\n",
      "|      Short| 199968|\n",
      "|  Game-Show| 165183|\n",
      "|    Romance|  99870|\n",
      "|      Sport|  99780|\n",
      "|  Biography|  81676|\n",
      "|     Horror|  79556|\n",
      "+-----------+-------+\n",
      "only showing top 20 rows\n",
      "\n"
     ]
    }
   ],
   "source": [
    "spark.sql('''SELECT genre, COUNT(genre) AS g FROM (SELECT SPLIT(genres,',')[0] AS genre\n",
    "             FROM   df_basics) group by genre ORDER BY g DESC''').show()"
   ]
  },
  {
   "cell_type": "code",
   "execution_count": null,
   "id": "3e3b1fa5",
   "metadata": {},
   "outputs": [],
   "source": []
  },
  {
   "cell_type": "code",
   "execution_count": null,
   "id": "dc736a15",
   "metadata": {},
   "outputs": [],
   "source": []
  },
  {
   "cell_type": "code",
   "execution_count": null,
   "id": "6de58849",
   "metadata": {},
   "outputs": [],
   "source": []
  },
  {
   "cell_type": "code",
   "execution_count": null,
   "id": "60898130",
   "metadata": {},
   "outputs": [],
   "source": [
    "spark.stop()"
   ]
  },
  {
   "cell_type": "code",
   "execution_count": null,
   "id": "b045b97f",
   "metadata": {},
   "outputs": [],
   "source": []
  }
 ],
 "metadata": {
  "kernelspec": {
   "display_name": "Python 3 (ipykernel)",
   "language": "python",
   "name": "python3"
  },
  "language_info": {
   "codemirror_mode": {
    "name": "ipython",
    "version": 3
   },
   "file_extension": ".py",
   "mimetype": "text/x-python",
   "name": "python",
   "nbconvert_exporter": "python",
   "pygments_lexer": "ipython3",
   "version": "3.9.12"
  }
 },
 "nbformat": 4,
 "nbformat_minor": 5
}
