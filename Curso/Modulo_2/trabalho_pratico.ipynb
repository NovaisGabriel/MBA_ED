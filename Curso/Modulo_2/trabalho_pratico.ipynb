{
 "cells": [
  {
   "cell_type": "code",
   "execution_count": null,
   "id": "90b406a1",
   "metadata": {},
   "outputs": [],
   "source": [
    "import findspark\n",
    "\n",
    "findspark.init()"
   ]
  },
  {
   "cell_type": "code",
   "execution_count": null,
   "id": "48911156",
   "metadata": {},
   "outputs": [],
   "source": [
    "from pyspark.sql import SparkSession\n",
    "from pyspark.sql.functions import col\n",
    "from pyspark.sql.types import *"
   ]
  },
  {
   "cell_type": "code",
   "execution_count": null,
   "id": "fe83931e",
   "metadata": {},
   "outputs": [],
   "source": [
    "spark = SparkSession.builder.getOrCreate()"
   ]
  },
  {
   "cell_type": "code",
   "execution_count": null,
   "id": "affe36dc",
   "metadata": {},
   "outputs": [],
   "source": [
    "(\n",
    "spark\n",
    "    .read\n",
    "    .csv('title_ratings.tsv', header=True, sep='\\t')\n",
    "    .write\n",
    "    .format('parquet')\n",
    "    .mode('overwrite')\n",
    "    .save('dfratings')\n",
    ")"
   ]
  },
  {
   "cell_type": "code",
   "execution_count": null,
   "id": "5bbedea4",
   "metadata": {},
   "outputs": [],
   "source": [
    "(\n",
    "spark\n",
    "    .read\n",
    "    .csv('title_basics.tsv', header=True, sep='\\t')\n",
    "    .write\n",
    "    .format('parquet')\n",
    "    .mode('overwrite')\n",
    "    .save('dfbasics')\n",
    ")"
   ]
  },
  {
   "cell_type": "code",
   "execution_count": null,
   "id": "4d8e48fc",
   "metadata": {},
   "outputs": [],
   "source": [
    "df_basics = spark.read.format('parquet').load('dfbasics')"
   ]
  },
  {
   "cell_type": "code",
   "execution_count": null,
   "id": "f682df2b",
   "metadata": {},
   "outputs": [],
   "source": [
    "df_basics.printSchema()"
   ]
  },
  {
   "cell_type": "code",
   "execution_count": null,
   "id": "97f3fb59",
   "metadata": {},
   "outputs": [],
   "source": [
    "df_basics.show(5)"
   ]
  },
  {
   "cell_type": "code",
   "execution_count": null,
   "id": "714061e0",
   "metadata": {},
   "outputs": [],
   "source": [
    "df_ratings = spark.read.format('parquet').load('dfratings')"
   ]
  },
  {
   "cell_type": "code",
   "execution_count": null,
   "id": "901da9d9",
   "metadata": {},
   "outputs": [],
   "source": [
    "df_ratings.printSchema()"
   ]
  },
  {
   "cell_type": "code",
   "execution_count": null,
   "id": "8a8a5b1b",
   "metadata": {},
   "outputs": [],
   "source": [
    "df_ratings.show(5)"
   ]
  },
  {
   "cell_type": "markdown",
   "id": "ce88da2b",
   "metadata": {},
   "source": [
    "<h3>Respondendo as questões do trabalho prático</h3>"
   ]
  },
  {
   "cell_type": "code",
   "execution_count": null,
   "id": "bd1fb7b7",
   "metadata": {},
   "outputs": [],
   "source": [
    "df_basics.withColumn('startYear', col('startYear').cast('int'))"
   ]
  },
  {
   "cell_type": "code",
   "execution_count": null,
   "id": "0698c15d",
   "metadata": {},
   "outputs": [],
   "source": [
    "df_basics.createOrReplaceTempView('df_basics')"
   ]
  },
  {
   "cell_type": "code",
   "execution_count": null,
   "id": "b67f4004",
   "metadata": {},
   "outputs": [],
   "source": [
    "spark.sql(\"SELECT DISTINCT titleType FROM df_basics\").show()"
   ]
  },
  {
   "cell_type": "code",
   "execution_count": null,
   "id": "7d9849a7",
   "metadata": {},
   "outputs": [],
   "source": [
    "spark.sql(\"SELECT COUNT(DISTINCT primaryTitle) FROM df_basics WHERE startYear = 2015 AND titleType in ('tvMovie', 'movie')\").show(5)"
   ]
  },
  {
   "cell_type": "code",
   "execution_count": null,
   "id": "9c073875",
   "metadata": {},
   "outputs": [],
   "source": [
    "spark.sql('''SELECT genre, COUNT(genre) AS g FROM (SELECT SPLIT(genres,',')[0] AS genre\n",
    "             FROM   df_basics) group by genre ORDER BY g DESC''').show()"
   ]
  },
  {
   "cell_type": "code",
   "execution_count": null,
   "id": "655b80bd",
   "metadata": {},
   "outputs": [],
   "source": []
  },
  {
   "cell_type": "code",
   "execution_count": null,
   "id": "e39cbecb",
   "metadata": {},
   "outputs": [],
   "source": []
  },
  {
   "cell_type": "code",
   "execution_count": null,
   "id": "1bdec70a",
   "metadata": {},
   "outputs": [],
   "source": []
  },
  {
   "cell_type": "code",
   "execution_count": null,
   "id": "c3e81a2e",
   "metadata": {},
   "outputs": [],
   "source": [
    "spark.stop()"
   ]
  },
  {
   "cell_type": "code",
   "execution_count": null,
   "id": "8e4adbbf",
   "metadata": {},
   "outputs": [],
   "source": []
  }
 ],
 "metadata": {
  "kernelspec": {
   "display_name": "Python 3 (ipykernel)",
   "language": "python",
   "name": "python3"
  },
  "language_info": {
   "codemirror_mode": {
    "name": "ipython",
    "version": 3
   },
   "file_extension": ".py",
   "mimetype": "text/x-python",
   "name": "python",
   "nbconvert_exporter": "python",
   "pygments_lexer": "ipython3",
   "version": "3.9.12"
  }
 },
 "nbformat": 4,
 "nbformat_minor": 5
}
